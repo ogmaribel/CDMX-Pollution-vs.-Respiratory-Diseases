{
 "cells": [
  {
   "cell_type": "markdown",
   "metadata": {},
   "source": [
    "## Create Geojson de CDMX & EdoMex"
   ]
  },
  {
   "cell_type": "code",
   "execution_count": 1,
   "metadata": {},
   "outputs": [],
   "source": [
    "import geopandas as gpd\n",
    "from fiona.crs import from_epsg"
   ]
  },
  {
   "cell_type": "code",
   "execution_count": 2,
   "metadata": {},
   "outputs": [],
   "source": [
    "cdmx = gpd.read_file('../shp/09mun.shp') \n",
    "edomex = gpd.read_file('../shp/15mun.shp')"
   ]
  },
  {
   "cell_type": "code",
   "execution_count": 3,
   "metadata": {},
   "outputs": [
    {
     "data": {
      "text/plain": [
       "{'proj': 'lcc',\n",
       " 'lat_1': 17.5,\n",
       " 'lat_2': 29.5,\n",
       " 'lat_0': 12,\n",
       " 'lon_0': -102,\n",
       " 'x_0': 2500000,\n",
       " 'y_0': 0,\n",
       " 'ellps': 'GRS80',\n",
       " 'units': 'm',\n",
       " 'no_defs': True}"
      ]
     },
     "execution_count": 3,
     "metadata": {},
     "output_type": "execute_result"
    }
   ],
   "source": [
    "cdmx.crs"
   ]
  },
  {
   "cell_type": "code",
   "execution_count": 4,
   "metadata": {},
   "outputs": [
    {
     "data": {
      "text/plain": [
       "{'proj': 'lcc',\n",
       " 'lat_1': 17.5,\n",
       " 'lat_2': 29.5,\n",
       " 'lat_0': 12,\n",
       " 'lon_0': -102,\n",
       " 'x_0': 2500000,\n",
       " 'y_0': 0,\n",
       " 'ellps': 'GRS80',\n",
       " 'units': 'm',\n",
       " 'no_defs': True}"
      ]
     },
     "execution_count": 4,
     "metadata": {},
     "output_type": "execute_result"
    }
   ],
   "source": [
    "edomex.crs"
   ]
  },
  {
   "cell_type": "code",
   "execution_count": 5,
   "metadata": {},
   "outputs": [
    {
     "data": {
      "text/plain": [
       "0    POLYGON ((2794859.977200001 837218.4081000015,...\n",
       "1    POLYGON ((2799635.191399999 820691.5815000013,...\n",
       "2    POLYGON ((2787229.7905 825329.2848000005, 2787...\n",
       "3    POLYGON ((2801415.963500001 846522.8574000001,...\n",
       "4    POLYGON ((2808291.346100003 828067.5702, 28082...\n",
       "Name: geometry, dtype: object"
      ]
     },
     "execution_count": 5,
     "metadata": {},
     "output_type": "execute_result"
    }
   ],
   "source": [
    "cdmx['geometry'].head()"
   ]
  },
  {
   "cell_type": "code",
   "execution_count": 6,
   "metadata": {},
   "outputs": [
    {
     "data": {
      "text/plain": [
       "0    POLYGON ((2710519.762599997 897148.8223999999,...\n",
       "1    POLYGON ((2821996.495300002 857457.875599999, ...\n",
       "2    POLYGON ((2710574.9582 920075.5744000003, 2710...\n",
       "3    (POLYGON ((2726597.297399998 755294.1605999991...\n",
       "4    POLYGON ((2725397.363799997 838760.9265000001,...\n",
       "Name: geometry, dtype: object"
      ]
     },
     "execution_count": 6,
     "metadata": {},
     "output_type": "execute_result"
    }
   ],
   "source": [
    "edomex['geometry'].head()"
   ]
  },
  {
   "cell_type": "code",
   "execution_count": 7,
   "metadata": {},
   "outputs": [],
   "source": [
    "# transfomracion de poligonos\n",
    "cdmx['geometry'] = cdmx['geometry'].to_crs(epsg=4326) #sistema epsg:4326  spatialreference.org\n",
    "edomex['geometry'] = edomex['geometry'].to_crs(epsg=4326) #sistema epsg:4326  spatialreference.org"
   ]
  },
  {
   "cell_type": "code",
   "execution_count": 8,
   "metadata": {},
   "outputs": [
    {
     "data": {
      "text/plain": [
       "0    POLYGON ((-99.18230696979366 19.50747924999397...\n",
       "1    POLYGON ((-99.13983600039249 19.35691759963943...\n",
       "2    POLYGON ((-99.25737566019872 19.40112023037567...\n",
       "3    POLYGON ((-99.11788785023799 19.59059230958083...\n",
       "4    POLYGON ((-99.05578649040339 19.42214108965638...\n",
       "Name: geometry, dtype: object"
      ]
     },
     "execution_count": 8,
     "metadata": {},
     "output_type": "execute_result"
    }
   ],
   "source": [
    "cdmx['geometry'].head()"
   ]
  },
  {
   "cell_type": "code",
   "execution_count": 9,
   "metadata": {},
   "outputs": [
    {
     "data": {
      "text/plain": [
       "0    POLYGON ((-99.98007246044905 20.06347353975931...\n",
       "1    POLYGON ((-98.91891132017726 19.68578845985508...\n",
       "2    POLYGON ((-99.97643933970618 20.27131845973356...\n",
       "3    (POLYGON ((-99.84626973985064 18.7763172197528...\n",
       "4    POLYGON ((-99.84575771986323 19.53236310980204...\n",
       "Name: geometry, dtype: object"
      ]
     },
     "execution_count": 9,
     "metadata": {},
     "output_type": "execute_result"
    }
   ],
   "source": [
    "edomex['geometry'].head()"
   ]
  },
  {
   "cell_type": "code",
   "execution_count": 10,
   "metadata": {},
   "outputs": [],
   "source": [
    "# etiquetar a lat y long\n",
    "cdmx.crs = from_epsg(4326)\n",
    "edomex.crs = from_epsg(4326)"
   ]
  },
  {
   "cell_type": "code",
   "execution_count": 11,
   "metadata": {},
   "outputs": [],
   "source": [
    "# get geojson file for CDMX\n",
    "cdmx.to_file('cdmx.geojson', driver='GeoJSON')"
   ]
  },
  {
   "cell_type": "code",
   "execution_count": 12,
   "metadata": {},
   "outputs": [],
   "source": [
    "# get geojson file for CDMX\n",
    "edomex.to_file('edomex.geojson', driver='GeoJSON')"
   ]
  },
  {
   "cell_type": "markdown",
   "metadata": {},
   "source": [
    "### END OF JUPYTER-NOTEBOOK\n",
    "GeoJson mapping for CDMX and EdoMex"
   ]
  }
 ],
 "metadata": {
  "kernelspec": {
   "display_name": "Python 3",
   "language": "python",
   "name": "python3"
  },
  "language_info": {
   "codemirror_mode": {
    "name": "ipython",
    "version": 3
   },
   "file_extension": ".py",
   "mimetype": "text/x-python",
   "name": "python",
   "nbconvert_exporter": "python",
   "pygments_lexer": "ipython3",
   "version": "3.6.4"
  }
 },
 "nbformat": 4,
 "nbformat_minor": 2
}
